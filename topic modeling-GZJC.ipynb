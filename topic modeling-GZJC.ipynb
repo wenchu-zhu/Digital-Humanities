{
 "cells": [
  {
   "cell_type": "code",
   "execution_count": 5,
   "metadata": {
    "collapsed": false
   },
   "outputs": [
    {
     "name": "stdout",
     "output_type": "stream",
     "text": [
      "序佳会绝句\n",
      "\n",
      "情似胶漆味正好，风吹纸窗忌人俏。\n",
      "\n",
      "两人绸缪不可言，又恐丫鬟高声叫。\n",
      "\n",
      "欲吐深情兴转浓，匆匆钝了舌边锋。\n",
      "\n",
      "梦想魂灵飞不迭，一世光风在眼中。\n",
      "\n",
      "秋波对著不瞑眸，红桃含吞鱼上钩。\n",
      "\n",
      "形骸化作一块儿，灵犀融结上眉头。\n",
      "\n",
      "不知此景是何景，惊跃壁间银影。\n",
      "\n",
      "欢了方觉从前苦，愁极今宵梦未醒。\n",
      "\n",
      "临海逸叟醉笔\n",
      "\n",
      "《鼓掌绝尘》题辞\n",
      "\n",
      "方今一人当头，万民鼓掌，逆璫传首，叛焕划肠。乐哉，化日光天，无事听闲人说鬼；嗒矣，北窗南面，有时向知己徵歌。歌何所云乎？世事短如春梦，人情薄似秋云。淡哉斯言！无过向此滚滚红尘中，叹翻掌之狂缘，笑轩渠之变态耳。好事家因于酒酣耳热之际，掀我之髯，按君之剑，弄笔墨而谱风流，写官商而翻情致。传觞啜茗之馀，色飞流艳；倾耳醉目之下，魂动异情，无意撩人，有心嘲世。漫说三千粉黛，无过此一片骚酸；休言百二山河，总是他万般痴蠢。奸内奸而盗内盗，诈内诈而伪内伪兮，臣实于今一中之；酒上酒而色上色，财上财而气上气乎，君特未知其趣耳。\n",
      "\n",
      "馋涎饿虎，油额花狐，嚼残红骨，而呼尽白脂，痴心汉耽为极乐国。南粪熏熏，北风泼泼，嗅乾尿袋，而歧碎糟囊，知心哥躲在骷髅冢。钱神顶尖似绣花针，直钻空三十三天；醋瓶口大比洞庭湖，真浸透九十九地。管取精奇古怪，装成一世话吧下场头。何妨周吴郑王，借作千古风流俊俏眼。热如火，艳似花，他爱我，我爱他，不觉永走而铅飞；喉似管，眼如箕，尔为尔，我为我，就是张三而李四。掀翻面糊盆，洁洁净净，云在青天水在瓶；打破酸□瓮，燥燥乾，桃花能红李能白。看到心花开绽处，笔歌墨舞，世上如今半是君；想来泪血迸流时，玉悴香消．此曲只应天上有。开襟大笑，梁尘落尽砚他香；岸帻豪吟，尘尾敲残茶灶冷。吾为鼓掌，香韵金瓶之梅；君试拂尘，味共梁山之水。\n",
      "\n",
      "崇祯辛未岁之元旦，闭户先生书于咫园之烹天馆\n",
      "\n",
      "《鼓掌绝尘》叙\n",
      "\n",
      "馀主人龚君，延选经文诗画，嗣后房稿行世，因海内共赏选叙，索《鼓掌绝尘》小引一篇。\n",
      "\n",
      "馀素沉酣经史，咀嚼贤臣，风流荡宕，靡不爱焉。于花前月下之趣，摈而不录久矣。归鞭当速，马蹄厥疾，无暇览焉。主人取将竣之帙于手中，一展卷皆天地间花柳也。花红柳绿，飘拂牵游，即老成端重之儒，无不快睹而欣焉。乃知老成端重，其貌尤假，风花雪月，其情最真也。」\n",
      "\n",
      "人心一天地。春夏秋冬，天地之时也，则首春，非春不足以宰发育收藏之妙；喜怒哀乐，人心之情，则鼎喜，非喜无以胚悲愤欢畅之根。天地和调，则万物昭苏，人心悦恺，则四体睟盎。风光艳丽，不独千古同情，天地人心所不可死之性理也。夫小道可观，职此故耳。况 《秋波传》、《诗媒记》，《红梅》、《桃花》，梨园盛传，幽香喷人，字内融融，兹帙可媲而美焉者。倘谓淫邪贼正，视为污蠹之物，桑间濮上，宣尼父何不一笔削去之，其中盖有说焉。不惟淫欲炽而情态丑，足堤千秋之邪窦，即合卺野而白发贞，亦足愧万古之负心。嗣有穴隙钻而龙门跃，阳台为飞腾之基矣；逾墙从而六翩凌，超越成鹏持之遥矣。或一念幽情，开箕裘冠冕，片时佳会，结绝代芳声，舍此一途而不赏者谁？此馀草书慕孙娘之舞，遐文欣苏小之歌也耶。\n",
      "\n",
      "兹吴君纂其篇，开帙则满幅香浮，掩卷而馀香钩引，入手不能释者什九，遂名之 《鼓掌绝尘》云。虽然，经目者以之适情则可，以之留情则不可。\n",
      "\n",
      "赤城临海逸叟题\n",
      "\n",
      "鼓掌绝尘\n",
      "\n",
      "风集\n",
      "\n",
      "风来水面，宛绣搬之盈眸；风度谷心，恍笙簧之聒耳。二十四番花信，妃子开颜；一百八日寒思，幽人破驾。顾安得猛士，慰我雄威；且喜共佳人，同吾把酒。兰膏桂馥，偏从此处过来香；柳暗榆阴，不意如何吹出冷。秋凤瑟瑟，肠断佳人为玉萧，晓风离离，只恐夜深花睡去。那知风起水涌，蓝桥倒，淹影里之情郎；何意风送歌声，阳台畔，想画中之爱宠。流酸溅齿，狮子吼出杨梅乾；虚溺沾唇，猱儿惊坠芙蓉帐。风伯多情首肯，风流不坠斯编。是为鼓掌风集。\n",
      "\n",
      "闭户先生题\n",
      "\n",
      "\n"
     ]
    }
   ],
   "source": [
    "from ctext import *\n",
    "setremap(\"gb\")\n",
    "chapters = gettextaschapterlist(\"ctp:wb900066\")\n",
    "print (chapters[0])\n",
    "\n"
   ]
  },
  {
   "cell_type": "code",
   "execution_count": null,
   "metadata": {
    "collapsed": true
   },
   "outputs": [],
   "source": [
    "for x in range (0,len(chapters)):\n",
    "    file = open(\"鼓掌绝尘chapter\" + str(x + 1) + \".txt\", \"w\", encoding=\"utf-8\")\n",
    "    file.write(chapters[x])\n",
    "    file.close()"
   ]
  },
  {
   "cell_type": "code",
   "execution_count": 1,
   "metadata": {
    "collapsed": false
   },
   "outputs": [
    {
     "name": "stdout",
     "output_type": "stream",
     "text": [
      "鼓掌绝尘/.ipynb_checkpoints => 鼓掌绝尘.tokenized/.ipynb_checkpoints...\n",
      "鼓掌绝尘/final project 1.ipynb => 鼓掌绝尘.tokenized/final project 1.ipynb...\n",
      "鼓掌绝尘/鼓掌绝尘chapter1.txt => 鼓掌绝尘.tokenized/鼓掌绝尘chapter1.txt...\n",
      "鼓掌绝尘/鼓掌绝尘chapter10.txt => 鼓掌绝尘.tokenized/鼓掌绝尘chapter10.txt...\n",
      "鼓掌绝尘/鼓掌绝尘chapter11.txt => 鼓掌绝尘.tokenized/鼓掌绝尘chapter11.txt...\n",
      "鼓掌绝尘/鼓掌绝尘chapter12.txt => 鼓掌绝尘.tokenized/鼓掌绝尘chapter12.txt...\n",
      "鼓掌绝尘/鼓掌绝尘chapter13.txt => 鼓掌绝尘.tokenized/鼓掌绝尘chapter13.txt...\n",
      "鼓掌绝尘/鼓掌绝尘chapter14.txt => 鼓掌绝尘.tokenized/鼓掌绝尘chapter14.txt...\n",
      "鼓掌绝尘/鼓掌绝尘chapter15.txt => 鼓掌绝尘.tokenized/鼓掌绝尘chapter15.txt...\n",
      "鼓掌绝尘/鼓掌绝尘chapter16.txt => 鼓掌绝尘.tokenized/鼓掌绝尘chapter16.txt...\n",
      "鼓掌绝尘/鼓掌绝尘chapter17.txt => 鼓掌绝尘.tokenized/鼓掌绝尘chapter17.txt...\n",
      "鼓掌绝尘/鼓掌绝尘chapter18.txt => 鼓掌绝尘.tokenized/鼓掌绝尘chapter18.txt...\n",
      "鼓掌绝尘/鼓掌绝尘chapter19.txt => 鼓掌绝尘.tokenized/鼓掌绝尘chapter19.txt...\n",
      "鼓掌绝尘/鼓掌绝尘chapter2.txt => 鼓掌绝尘.tokenized/鼓掌绝尘chapter2.txt...\n",
      "鼓掌绝尘/鼓掌绝尘chapter20.txt => 鼓掌绝尘.tokenized/鼓掌绝尘chapter20.txt...\n",
      "鼓掌绝尘/鼓掌绝尘chapter21.txt => 鼓掌绝尘.tokenized/鼓掌绝尘chapter21.txt...\n",
      "鼓掌绝尘/鼓掌绝尘chapter22.txt => 鼓掌绝尘.tokenized/鼓掌绝尘chapter22.txt...\n",
      "鼓掌绝尘/鼓掌绝尘chapter23.txt => 鼓掌绝尘.tokenized/鼓掌绝尘chapter23.txt...\n",
      "鼓掌绝尘/鼓掌绝尘chapter24.txt => 鼓掌绝尘.tokenized/鼓掌绝尘chapter24.txt...\n",
      "鼓掌绝尘/鼓掌绝尘chapter25.txt => 鼓掌绝尘.tokenized/鼓掌绝尘chapter25.txt...\n",
      "鼓掌绝尘/鼓掌绝尘chapter26.txt => 鼓掌绝尘.tokenized/鼓掌绝尘chapter26.txt...\n",
      "鼓掌绝尘/鼓掌绝尘chapter27.txt => 鼓掌绝尘.tokenized/鼓掌绝尘chapter27.txt...\n",
      "鼓掌绝尘/鼓掌绝尘chapter28.txt => 鼓掌绝尘.tokenized/鼓掌绝尘chapter28.txt...\n",
      "鼓掌绝尘/鼓掌绝尘chapter29.txt => 鼓掌绝尘.tokenized/鼓掌绝尘chapter29.txt...\n",
      "鼓掌绝尘/鼓掌绝尘chapter3.txt => 鼓掌绝尘.tokenized/鼓掌绝尘chapter3.txt...\n",
      "鼓掌绝尘/鼓掌绝尘chapter30.txt => 鼓掌绝尘.tokenized/鼓掌绝尘chapter30.txt...\n",
      "鼓掌绝尘/鼓掌绝尘chapter31.txt => 鼓掌绝尘.tokenized/鼓掌绝尘chapter31.txt...\n",
      "鼓掌绝尘/鼓掌绝尘chapter32.txt => 鼓掌绝尘.tokenized/鼓掌绝尘chapter32.txt...\n",
      "鼓掌绝尘/鼓掌绝尘chapter33.txt => 鼓掌绝尘.tokenized/鼓掌绝尘chapter33.txt...\n",
      "鼓掌绝尘/鼓掌绝尘chapter34.txt => 鼓掌绝尘.tokenized/鼓掌绝尘chapter34.txt...\n",
      "鼓掌绝尘/鼓掌绝尘chapter35.txt => 鼓掌绝尘.tokenized/鼓掌绝尘chapter35.txt...\n",
      "鼓掌绝尘/鼓掌绝尘chapter36.txt => 鼓掌绝尘.tokenized/鼓掌绝尘chapter36.txt...\n",
      "鼓掌绝尘/鼓掌绝尘chapter37.txt => 鼓掌绝尘.tokenized/鼓掌绝尘chapter37.txt...\n",
      "鼓掌绝尘/鼓掌绝尘chapter38.txt => 鼓掌绝尘.tokenized/鼓掌绝尘chapter38.txt...\n",
      "鼓掌绝尘/鼓掌绝尘chapter39.txt => 鼓掌绝尘.tokenized/鼓掌绝尘chapter39.txt...\n",
      "鼓掌绝尘/鼓掌绝尘chapter4.txt => 鼓掌绝尘.tokenized/鼓掌绝尘chapter4.txt...\n",
      "鼓掌绝尘/鼓掌绝尘chapter40.txt => 鼓掌绝尘.tokenized/鼓掌绝尘chapter40.txt...\n",
      "鼓掌绝尘/鼓掌绝尘chapter41.txt => 鼓掌绝尘.tokenized/鼓掌绝尘chapter41.txt...\n",
      "鼓掌绝尘/鼓掌绝尘chapter5.txt => 鼓掌绝尘.tokenized/鼓掌绝尘chapter5.txt...\n",
      "鼓掌绝尘/鼓掌绝尘chapter6.txt => 鼓掌绝尘.tokenized/鼓掌绝尘chapter6.txt...\n",
      "鼓掌绝尘/鼓掌绝尘chapter7.txt => 鼓掌绝尘.tokenized/鼓掌绝尘chapter7.txt...\n",
      "鼓掌绝尘/鼓掌绝尘chapter8.txt => 鼓掌绝尘.tokenized/鼓掌绝尘chapter8.txt...\n",
      "鼓掌绝尘/鼓掌绝尘chapter9.txt => 鼓掌绝尘.tokenized/鼓掌绝尘chapter9.txt...\n"
     ]
    }
   ],
   "source": [
    "import os\n",
    "import subprocess\n",
    "import platform\n",
    "\n",
    "inputfolder = \"鼓掌绝尘\"\n",
    "outputfolder = \"鼓掌绝尘.tokenized\"\n",
    "stanfordfolder = \"stanford-segmenter-2016-10-31\"\n",
    "\n",
    "inputfiles = os.listdir(inputfolder)  # This gets us a list of all the files in a directory\n",
    "\n",
    "for file in inputfiles:\n",
    "    inputfile = inputfolder + \"/\" + file\n",
    "    outputfile = outputfolder + \"/\" + file\n",
    "    print(inputfile + \" => \" + outputfile + \"...\")\n",
    "    with open(outputfile, 'w', encoding=\"utf-8\") as myoutfile:\n",
    "        filetorun = \"/segment.sh\"\n",
    "        if platform.system() == 'Windows':\n",
    "            filetorun = \"\\\\segment.bat\"\n",
    "        subprocess.call([stanfordfolder + filetorun, \"ctb\", inputfile, \"UTF-8\", \"0\"], stdout=myoutfile)"
   ]
  },
  {
   "cell_type": "code",
   "execution_count": 8,
   "metadata": {
    "collapsed": true
   },
   "outputs": [],
   "source": [
    "file = open(\"鼓掌绝尘-stopwords.txt\", \"w\", encoding=\"utf-8\")\n",
    "file.write(\"一 了 的 不 个 是 这 他 道 那 我 你 便 得 把 有 也 两 去 在 见 与 人 就 来 到 又 说 几 只 却 还 著 将 上 中 可 二 想 再 今日 敢 三 日 此 就是 之 同 向 年 若 那里 连忙 遂 正 为 先 这里 问道 前 要 都 做 知 看 些 家 事 里 件 晓得 好 走 如今 这样 且 甚么 怎么 这个 才 出来 只是 待 起来 下 原来 没 大 笑 问 甚 回来 我们 对 肯 竟 句 果然 唤 明日 听 罢 小 那些 过 如 进去 自 有些 曾 吃 寻 银子 仔细 被 分付 哪里 位 四 难道\")\n",
    "file.close()"
   ]
  },
  {
   "cell_type": "code",
   "execution_count": null,
   "metadata": {
    "collapsed": true
   },
   "outputs": [],
   "source": []
  }
 ],
 "metadata": {
  "anaconda-cloud": {},
  "kernelspec": {
   "display_name": "Python [default]",
   "language": "python",
   "name": "python3"
  },
  "language_info": {
   "codemirror_mode": {
    "name": "ipython",
    "version": 3
   },
   "file_extension": ".py",
   "mimetype": "text/x-python",
   "name": "python",
   "nbconvert_exporter": "python",
   "pygments_lexer": "ipython3",
   "version": "3.5.2"
  }
 },
 "nbformat": 4,
 "nbformat_minor": 1
}
