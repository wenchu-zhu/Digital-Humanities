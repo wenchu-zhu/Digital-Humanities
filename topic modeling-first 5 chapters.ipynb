{
 "cells": [
  {
   "cell_type": "code",
   "execution_count": 1,
   "metadata": {
    "collapsed": false
   },
   "outputs": [
    {
     "name": "stdout",
     "output_type": "stream",
     "text": [
      "开篇/再生缘chapter1.txt => 开篇.tokenized/再生缘chapter1.txt...\n",
      "开篇/再生缘chapter2.txt => 开篇.tokenized/再生缘chapter2.txt...\n",
      "开篇/再生缘chapter3.txt => 开篇.tokenized/再生缘chapter3.txt...\n",
      "开篇/再生缘chapter4.txt => 开篇.tokenized/再生缘chapter4.txt...\n",
      "开篇/再生缘chapter5.txt => 开篇.tokenized/再生缘chapter5.txt...\n",
      "开篇/娇红记chapter1.txt => 开篇.tokenized/娇红记chapter1.txt...\n",
      "开篇/娇红记chapter2.txt => 开篇.tokenized/娇红记chapter2.txt...\n",
      "开篇/娇红记chapter3.txt => 开篇.tokenized/娇红记chapter3.txt...\n",
      "开篇/娇红记chapter4.txt => 开篇.tokenized/娇红记chapter4.txt...\n",
      "开篇/娇红记chapter5.txt => 开篇.tokenized/娇红记chapter5.txt...\n",
      "开篇/平山冷燕chapter1.txt => 开篇.tokenized/平山冷燕chapter1.txt...\n",
      "开篇/平山冷燕chapter2.txt => 开篇.tokenized/平山冷燕chapter2.txt...\n",
      "开篇/平山冷燕chapter3.txt => 开篇.tokenized/平山冷燕chapter3.txt...\n",
      "开篇/平山冷燕chapter4.txt => 开篇.tokenized/平山冷燕chapter4.txt...\n",
      "开篇/平山冷燕chapter5.txt => 开篇.tokenized/平山冷燕chapter5.txt...\n",
      "开篇/玉娇梨chapter1.txt => 开篇.tokenized/玉娇梨chapter1.txt...\n",
      "开篇/玉娇梨chapter2.txt => 开篇.tokenized/玉娇梨chapter2.txt...\n",
      "开篇/玉娇梨chapter3.txt => 开篇.tokenized/玉娇梨chapter3.txt...\n",
      "开篇/玉娇梨chapter4.txt => 开篇.tokenized/玉娇梨chapter4.txt...\n",
      "开篇/玉娇梨chapter5.txt => 开篇.tokenized/玉娇梨chapter5.txt...\n",
      "开篇/红楼梦chapter1.txt => 开篇.tokenized/红楼梦chapter1.txt...\n",
      "开篇/红楼梦chapter2.txt => 开篇.tokenized/红楼梦chapter2.txt...\n",
      "开篇/红楼梦chapter3.txt => 开篇.tokenized/红楼梦chapter3.txt...\n",
      "开篇/红楼梦chapter4.txt => 开篇.tokenized/红楼梦chapter4.txt...\n",
      "开篇/红楼梦chapter5.txt => 开篇.tokenized/红楼梦chapter5.txt...\n",
      "开篇/醒世姻缘传chapter1.txt => 开篇.tokenized/醒世姻缘传chapter1.txt...\n",
      "开篇/醒世姻缘传chapter2.txt => 开篇.tokenized/醒世姻缘传chapter2.txt...\n",
      "开篇/醒世姻缘传chapter3.txt => 开篇.tokenized/醒世姻缘传chapter3.txt...\n",
      "开篇/醒世姻缘传chapter4.txt => 开篇.tokenized/醒世姻缘传chapter4.txt...\n",
      "开篇/醒世姻缘传chapter5.txt => 开篇.tokenized/醒世姻缘传chapter5.txt...\n",
      "开篇/金云翘传chapter1.txt => 开篇.tokenized/金云翘传chapter1.txt...\n",
      "开篇/金云翘传chapter2.txt => 开篇.tokenized/金云翘传chapter2.txt...\n",
      "开篇/金云翘传chapter3.txt => 开篇.tokenized/金云翘传chapter3.txt...\n",
      "开篇/金云翘传chapter4.txt => 开篇.tokenized/金云翘传chapter4.txt...\n",
      "开篇/金云翘传chapter5.txt => 开篇.tokenized/金云翘传chapter5.txt...\n",
      "开篇/金瓶梅chapter1.txt => 开篇.tokenized/金瓶梅chapter1.txt...\n",
      "开篇/金瓶梅chapter2.txt => 开篇.tokenized/金瓶梅chapter2.txt...\n",
      "开篇/金瓶梅chapter3.txt => 开篇.tokenized/金瓶梅chapter3.txt...\n",
      "开篇/金瓶梅chapter4.txt => 开篇.tokenized/金瓶梅chapter4.txt...\n",
      "开篇/金瓶梅chapter5.txt => 开篇.tokenized/金瓶梅chapter5.txt...\n",
      "开篇/镜花缘chapter1.txt => 开篇.tokenized/镜花缘chapter1.txt...\n",
      "开篇/镜花缘chapter2.txt => 开篇.tokenized/镜花缘chapter2.txt...\n",
      "开篇/镜花缘chapter3.txt => 开篇.tokenized/镜花缘chapter3.txt...\n",
      "开篇/镜花缘chapter4.txt => 开篇.tokenized/镜花缘chapter4.txt...\n",
      "开篇/镜花缘chapter5.txt => 开篇.tokenized/镜花缘chapter5.txt...\n",
      "开篇/鼓掌绝尘chapter1.txt => 开篇.tokenized/鼓掌绝尘chapter1.txt...\n",
      "开篇/鼓掌绝尘chapter2.txt => 开篇.tokenized/鼓掌绝尘chapter2.txt...\n",
      "开篇/鼓掌绝尘chapter3.txt => 开篇.tokenized/鼓掌绝尘chapter3.txt...\n",
      "开篇/鼓掌绝尘chapter4.txt => 开篇.tokenized/鼓掌绝尘chapter4.txt...\n",
      "开篇/鼓掌绝尘chapter5.txt => 开篇.tokenized/鼓掌绝尘chapter5.txt...\n"
     ]
    }
   ],
   "source": [
    "import os\n",
    "import subprocess\n",
    "import platform\n",
    "\n",
    "inputfolder = \"开篇\"\n",
    "outputfolder = \"开篇.tokenized\"\n",
    "stanfordfolder = \"stanford-segmenter-2016-10-31\"\n",
    "\n",
    "inputfiles = os.listdir(inputfolder)  # This gets us a list of all the files in a directory\n",
    "\n",
    "for file in inputfiles:\n",
    "    inputfile = inputfolder + \"/\" + file\n",
    "    outputfile = outputfolder + \"/\" + file\n",
    "    print(inputfile + \" => \" + outputfile + \"...\")\n",
    "    with open(outputfile, 'w', encoding=\"utf-8\") as myoutfile:\n",
    "        filetorun = \"/segment.sh\"\n",
    "        if platform.system() == 'Windows':\n",
    "            filetorun = \"\\\\segment.bat\"\n",
    "        subprocess.call([stanfordfolder + filetorun, \"ctb\", inputfile, \"UTF-8\", \"0\"], stdout=myoutfile)"
   ]
  },
  {
   "cell_type": "code",
   "execution_count": 2,
   "metadata": {
    "collapsed": true
   },
   "outputs": [],
   "source": [
    "file = open(\"开篇-stopwords.txt\", \"w\", encoding=\"utf-8\")\n",
    "file.write(\"了 的 他 是 不 这 我 来 也 说 你 又 人 便 有 得 著 道 在 只 之 一 此 因 而 为 可 以 能 见 亦 其 虽 但 已 无 如此 何 所 于 一 个 去 两 与 那 要 就 见 好 将 上 都 却 看 几 到 日 大 家  忙 到 已 为 家 难 再 笑 知 二 甚 才 若 三 敢 中 想 正 听 事 如何 下 过 且 还 既 或 则 乃 天下 皆 即 各 非 矣 故 者 其中 作 天地 令 尚 等 系 色 固 吃 里 把 没 做 头 打 甚么 被 只是 住 些 倒 小 说道 等 这个 怕 面 心 如 中 行 言 夫人 女 把 三 叫 真 还 若 同 更 未 事 多 声 前 酒 件 如今 起来 买 一般 从 对 那里 话 分 请 回来 手 寻 许多 起 每 不曾 银子 生 早 后 年 方 出 时 闻 天 坐 当 走 喜 全 书 回 尽 内 相 问 自 谁 四 待 似 向 处 使 五 边 今 本 子 月 罢 用 老 并 间 遂 今日 先 字 起身 句 原来 出来 送 肯 就是 兄 岂 问道 岁 看见 写 十分 明日 少 称 千 连 须 长 身 岂 门 竟 话说 重 君 定 观 莫 完 先 应 开 欲 俱 成 命 曾 方才 至 必 名 高 万 拜 恐 此时 不觉 首 别 位 双 氏 和 欲 吾 深 高 金 教 入 死 快 怎 房 番 山 父母 所以 知道 十 不过 怎么 人家 收拾 自己 成 拿 眼 会 半 取 往 出去 我们 走到 有些 便是 俱 至 必 首 位 命 此时 万 名 原 恐 众人 求 及 公子 众 十 人家 所以 往 杯 不过 心中 收拾 怎么 这里 自己 死 知道 这样 没有 拿 睡 眼 有些 替 欲 俱 成 命 曾 方才 至 必 名 高 万 拜 恐 花 诗 此时 不觉 首 别 位 和 氏 双 共 佳人 归 山 怎 尚书 风流 低 云 房 刘 今朝 美 奴 含 怎生 入 茶 觉 身上 第一 没有 虽然 在此 随 替 睡 辞 晓得 这样 极 家中 跟 罢了 这些 王 点 诗 一时 官 大家 七 饮 欢喜 题 细细 古 论 还是 汝 先生 何如 以为 犹 最 耳 忽 老爷 带 情 留 随 果然 红 念 满 望 意 转 地 父亲 只得 妙 虽然 儿 遇 苦 女儿 只怕 不知 自然 直 后来 然 信 发 富贵 窗 比 座 遭 常 依 片 偏 受 口  啊唷  登时 如若 泪 愿 朝 唤 乱 亲 暗 免 雪 母亲 小姐 恨 逢 轻 可怜 风 答应 穿 数 段 张 场 将来 一面 说话 还有 通 让 听见 递 明白 若是 兼 因此 过来 分解 太 遍 难道 为何 相见 听了 正是 读书 坐下 笔 第二 另 爱 下回 多少 接 六 假 到了 不得 休 报 慌忙 谈 分明 父 该 思 挂 丫鬟 姓 动 放 愁 殷勤 玉 立 表 齐 蒙 骂 条 饭 脚 衣裳 衣服 你们 娶 口里 块 银 脱 头上 顿 哭 碗 模样 县 听说 脸 太 遍 难道 为何 相见 听了 正是 读书 坐下 笔 第二 另 爱 下回 多少 接 六 假 到了 不得 休 报 慌忙 谈 分明 父 该 思 挂 丫鬟 姓 动 放 愁 殷勤 玉 立 表 齐 蒙 未免 那些 儿子 这等 放心 东西 昨日 进 许 推 为人 折 止 那个 伺候 年纪 商议 勉强 回去 且说 \t路 实 明 新 姻缘 惟 果 夜 惊 复 这般 反 贤 近 娇 怜 安 伤 百 正在\")\n",
    "file.close()"
   ]
  }
 ],
 "metadata": {
  "anaconda-cloud": {},
  "kernelspec": {
   "display_name": "Python [default]",
   "language": "python",
   "name": "python3"
  },
  "language_info": {
   "codemirror_mode": {
    "name": "ipython",
    "version": 3
   },
   "file_extension": ".py",
   "mimetype": "text/x-python",
   "name": "python",
   "nbconvert_exporter": "python",
   "pygments_lexer": "ipython3",
   "version": "3.5.2"
  }
 },
 "nbformat": 4,
 "nbformat_minor": 1
}
